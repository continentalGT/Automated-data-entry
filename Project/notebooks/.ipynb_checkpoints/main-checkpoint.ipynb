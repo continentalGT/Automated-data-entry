{
 "cells": [
  {
   "cell_type": "markdown",
   "id": "820eea12",
   "metadata": {},
   "source": [
    "Data entry first with the help of OCR"
   ]
  },
  {
   "cell_type": "markdown",
   "id": "bc74c50e",
   "metadata": {},
   "source": [
    "1. First check the Bills inside the folder\n"
   ]
  },
  {
   "cell_type": "code",
   "execution_count": 1,
   "id": "eab16aa1",
   "metadata": {},
   "outputs": [],
   "source": [
    "import os\n",
    "import pytesseract\n",
    "from PIL import Image"
   ]
  },
  {
   "cell_type": "code",
   "execution_count": 2,
   "id": "eaa1cf89",
   "metadata": {},
   "outputs": [
    {
     "name": "stdout",
     "output_type": "stream",
     "text": [
      "electroic bill.png\n",
      "Grocerybill.png\n",
      "mobile recharge.png\n",
      "mobilerecharge.png\n",
      "restaurant bill.png\n",
      "restaurantbill.png\n"
     ]
    }
   ],
   "source": [
    "bills_folder = './Bills'\n",
    "if os.path.exists(bills_folder):\n",
    "    for file in os.listdir(bills_folder):\n",
    "        print(file)\n",
    "else:\n",
    "    print(f\"Folder not found: {bills_folder}\")"
   ]
  },
  {
   "cell_type": "markdown",
   "id": "8233c343",
   "metadata": {},
   "source": [
    "OCR"
   ]
  },
  {
   "cell_type": "code",
   "execution_count": 3,
   "id": "5101f3b5",
   "metadata": {},
   "outputs": [],
   "source": [
    "# %pip install pytesseract"
   ]
  },
  {
   "cell_type": "code",
   "execution_count": 4,
   "id": "a954fddc",
   "metadata": {},
   "outputs": [],
   "source": [
    "pytesseract.pytesseract.tesseract_cmd = r\"C:\\Program Files\\Tesseract-OCR\\tesseract.exe\"\n"
   ]
  },
  {
   "cell_type": "code",
   "execution_count": 5,
   "id": "ec6c8e94",
   "metadata": {},
   "outputs": [
    {
     "name": "stdout",
     "output_type": "stream",
     "text": [
      "The Text in the image electroic bill.png\n",
      "\n",
      "3. Electronics Store Bill\n",
      "yam 8 Copy @ Edit\n",
      "Store: ElectroHub Pvt. Ltd.\n",
      "Invoice #: FH2@2504\n",
      "Date: 2025-05-23\n",
      "Product Qty Unit Price Total\n",
      "Bluetooth Speaker 1 1500 1500\n",
      "USB-C Cable 2 258 500\n",
      "Subtotal: 72000\n",
      "GST (18%): 3360\n",
      "Total Amount Payable: 32360\n",
      "Payment Mode: Debit Card\n",
      "\n",
      "----------------------\n",
      "The Text in the image Grocerybill.png\n",
      "\n",
      "1. Grocery Store Bill\n",
      "\n",
      "yaml\n",
      "\n",
      "Store: FreshMart Supermarket\n",
      "\n",
      "Invoice #: FMG34562\n",
      "\n",
      "Date: 2025-05-28\n",
      "\n",
      "Product Qty Unit Price Total\n",
      "\n",
      "Basmati Rice 2 120 240\n",
      ". Olive Oil 1 450 450\n",
      "\n",
      "Toothpaste 3 45 135\n",
      "\n",
      "Subtotal: 3825\n",
      "\n",
      "GST (5%): 241\n",
      "\n",
      "Total Amount Payable: 7866\n",
      "\n",
      "Payment Mode: Cash\n",
      "\n",
      "----------------------\n",
      "The Text in the image mobile recharge.png\n",
      "\n",
      "7. Mobile Recharge Bill\n",
      "yam 8 Copy @ Edit\n",
      "Provider: TelNet Communications\n",
      "Recharge ID: TNC778899\n",
      "Date: 2025-05-26\n",
      "Mobile No: 9876543210\n",
      "Plan: %399 (28 Days Unlimited)\n",
      "Base Plan: 339.83\n",
      "GST (18%): 59.17\n",
      "Total: 3399.00\n",
      "Payment: UPI °\n",
      "Status: Successful\n",
      "\n",
      "----------------------\n",
      "The Text in the image mobilerecharge.png\n",
      "\n",
      "7. Mobile Recharge Invoice\n",
      "yam\n",
      "Service Provider: Airtel\n",
      "Invoice No: AR9@876\n",
      "Date: 2025-05-22\n",
      "Recharge Plan: 7399\n",
      "Validity: 28 Days\n",
      "Data: 2GB/day\n",
      "Talktime: Unlimited\n",
      "SMS: 100/day\n",
      "GST (18%): 272\n",
      "Total Payable: 2471\n",
      "Payment Mode: Online Wallet\n",
      "\n",
      "----------------------\n",
      "The Text in the image restaurant bill.png\n",
      "\n",
      "2. Restaurant Bill\n",
      "yaml O Copy @ Edit\n",
      "Restaurant: Spice Garden\n",
      "Invoice #: SG5678\n",
      "Date: 2025-05-24\n",
      "Table: Te4\n",
      "Item Qty Price Total\n",
      "Paneer Butter Masala 1 240 240\n",
      "Butter Naan 2 40 80\n",
      "Soft Drink 2 38 60\n",
      "Subtotal: 3380\n",
      "CGST (2.5%): 29.50\n",
      "SGST (2.5%): 29.50\n",
      "Grand Total: 3399.00\n",
      "Paid by: Card 5\n",
      "\n",
      "----------------------\n",
      "The Text in the image restaurantbill.png\n",
      "\n",
      "5. Restaurant Invoice\n",
      "\n",
      "yam\n",
      "\n",
      "Hotel: Spice Garden\n",
      "\n",
      "Invoice No: SG78645\n",
      "\n",
      "Date: 2025-05-27\n",
      "\n",
      "Item Qty Rate Total\n",
      "\n",
      "Paneer Tikka 1 260 260\n",
      "\n",
      "Veg Biryani 2 180 360\n",
      ". Soft Drinks 3 40 120\n",
      "\n",
      "Subtotal: 2740\n",
      "\n",
      "Service Tax (5%): 37\n",
      "\n",
      "Total Payable: U7\n",
      "\n",
      "Paid via: UPI\n",
      "\n",
      "----------------------\n"
     ]
    }
   ],
   "source": [
    "for file in os.listdir(bills_folder):\n",
    "    # print(file)\n",
    "    image = Image.open(os.path.join(bills_folder, file))\n",
    "    text = pytesseract.image_to_string(image,config=\"--psm 6\")\n",
    "    print(f'''The Text in the image {file}\\n''')\n",
    "    print(text)\n",
    "    print('----------------------')"
   ]
  },
  {
   "cell_type": "markdown",
   "id": "ed695255",
   "metadata": {},
   "source": [
    "| PSM   | Mode Description                                                 |\n",
    "| ----- | ---------------------------------------------------------------- |\n",
    "| 3     | Fully automatic page segmentation (default)                      |\n",
    "| 4     | Assume a single column of text, but with variable sizes          |\n",
    "| **6** | **Assume a uniform block of text** (best for simple text blocks) |\n",
    "| 7     | Treat the image as a single text line                            |\n",
    "| 8     | Treat the image as a single word                                 |\n",
    "| 11    | Sparse text, find as much text as possible                       |\n",
    "| 13    | Raw line mode (no layout analysis)                               |\n",
    "m"
   ]
  },
  {
   "cell_type": "markdown",
   "id": "3838fd3e",
   "metadata": {},
   "source": [
    "Importing Large language model"
   ]
  },
  {
   "cell_type": "code",
   "execution_count": 6,
   "id": "ded44297",
   "metadata": {},
   "outputs": [],
   "source": [
    "# %pip install ollama"
   ]
  },
  {
   "cell_type": "code",
   "execution_count": 7,
   "id": "ede02de8",
   "metadata": {},
   "outputs": [],
   "source": [
    "import ollama\n",
    "\n",
    "response =ollama.chat(\n",
    "    model=\"llama3.2\",\n",
    "    messages=[{'role':'user','content':'Hello,good evening'}])"
   ]
  },
  {
   "cell_type": "code",
   "execution_count": 8,
   "id": "71cd9428",
   "metadata": {},
   "outputs": [],
   "source": [
    "# type(response)"
   ]
  },
  {
   "cell_type": "code",
   "execution_count": 9,
   "id": "40f2de18",
   "metadata": {},
   "outputs": [
    {
     "name": "stdout",
     "output_type": "stream",
     "text": [
      "Good evening! How can I assist you tonight?\n"
     ]
    }
   ],
   "source": [
    "print(response['message']['content'])"
   ]
  },
  {
   "cell_type": "code",
   "execution_count": 10,
   "id": "5ea0d1f6",
   "metadata": {},
   "outputs": [],
   "source": [
    "system_prompt=f\"\"\" Youare a helpful assistant that parse the text\n",
    "receives from OCR extraction into a JSON format.\n",
    "\n",
    "Here is the  that is provided to you.\n",
    "{text}\n",
    "\n",
    "Your task is to extract the following information: and convert it into a clear json format.\n",
    "\n",
    "\n",
    "Here is an example for you for the final outtput:\n",
    "\n",
    "{{'vendor_name': 'Amazon',\n",
    " 'date': '2023-10-01',\n",
    " 'total_amount': 150.75,\n",
    "'payment_method': 'Credit Card',\n",
    " }}\n",
    "\n",
    "\n",
    "\"\"\""
   ]
  },
  {
   "cell_type": "code",
   "execution_count": 11,
   "id": "77f3196a",
   "metadata": {},
   "outputs": [],
   "source": [
    "import ollama\n",
    "\n",
    "response =ollama.chat(\n",
    "    model=\"llama3.2\",\n",
    "    messages=[{'role':'system','content':system_prompt}])"
   ]
  },
  {
   "cell_type": "code",
   "execution_count": 12,
   "id": "f34fbf77",
   "metadata": {},
   "outputs": [
    {
     "name": "stdout",
     "output_type": "stream",
     "text": [
      "\n"
     ]
    }
   ],
   "source": [
    "print(response['message']['content'])"
   ]
  },
  {
   "cell_type": "markdown",
   "id": "50c937c9",
   "metadata": {},
   "source": [
    "# Extracting PDF "
   ]
  },
  {
   "cell_type": "code",
   "execution_count": 15,
   "id": "f008840d",
   "metadata": {},
   "outputs": [],
   "source": [
    "# %pip install pdfplumber==0.11.6\n"
   ]
  },
  {
   "cell_type": "code",
   "execution_count": 4,
   "id": "359cc029",
   "metadata": {},
   "outputs": [],
   "source": [
    "import pdfplumber\n",
    "import os\n",
    "import warnings\n",
    "warnings.filterwarnings(\"ignore\")"
   ]
  },
  {
   "cell_type": "code",
   "execution_count": 2,
   "id": "62f97896",
   "metadata": {},
   "outputs": [],
   "source": [
    "bills_folder='../pdf_bills'"
   ]
  },
  {
   "cell_type": "code",
   "execution_count": 5,
   "id": "725f6092",
   "metadata": {},
   "outputs": [
    {
     "name": "stdout",
     "output_type": "stream",
     "text": [
      "bill2.pdf\n",
      "bill3.pdf\n",
      "bill4.pdf\n",
      "bill5.pdf\n",
      "bill6.pdf\n",
      "bill7.pdf\n",
      "bill8.pdf\n",
      "bill9.pdf\n"
     ]
    }
   ],
   "source": [
    "if os.path.exists(bills_folder):\n",
    "    for file in os.listdir(bills_folder):\n",
    "        print(file)\n",
    "else:\n",
    "    print('Folder does not exist')"
   ]
  },
  {
   "cell_type": "code",
   "execution_count": 7,
   "id": "e3f04e59",
   "metadata": {},
   "outputs": [
    {
     "name": "stderr",
     "output_type": "stream",
     "text": [
      "CropBox missing from /Page, defaulting to MediaBox\n",
      "CropBox missing from /Page, defaulting to MediaBox\n"
     ]
    },
    {
     "data": {
      "text/plain": [
       "[<Page:1>, <Page:2>]"
      ]
     },
     "execution_count": 7,
     "metadata": {},
     "output_type": "execute_result"
    }
   ],
   "source": [
    "pdfplumber.open('../pdf_bills/bill2.pdf',).pages #two pages are there"
   ]
  },
  {
   "cell_type": "code",
   "execution_count": 49,
   "id": "c5aa1d1c",
   "metadata": {},
   "outputs": [
    {
     "name": "stderr",
     "output_type": "stream",
     "text": [
      "CropBox missing from /Page, defaulting to MediaBox\n",
      "CropBox missing from /Page, defaulting to MediaBox\n",
      "CropBox missing from /Page, defaulting to MediaBox\n",
      "CropBox missing from /Page, defaulting to MediaBox\n"
     ]
    },
    {
     "data": {
      "text/plain": [
       "2"
      ]
     },
     "execution_count": 49,
     "metadata": {},
     "output_type": "execute_result"
    }
   ],
   "source": [
    "pdfplumber.open('./pdf_bills/bill2.pdf',).pages\n",
    "\n",
    "len(pdfplumber.open('./pdf_bills/bill2.pdf',).pages)"
   ]
  },
  {
   "cell_type": "code",
   "execution_count": 8,
   "id": "1f454774",
   "metadata": {},
   "outputs": [
    {
     "name": "stderr",
     "output_type": "stream",
     "text": [
      "CropBox missing from /Page, defaulting to MediaBox\n",
      "CropBox missing from /Page, defaulting to MediaBox\n"
     ]
    },
    {
     "data": {
      "text/plain": [
       "'Reliance Retail Limited\\n8th Floor, Eldeco corporate Chamber - II, Plot No.TC-58V\\nAND TC C-59V, Phase-I, Vibhuti Khand, Gomti Nagar,\\nLucknow Lucknow Uttar Pradesh 226010\\n(Original for Recipient)\\nTax Invoice\\nInvoice No : A9R25R9992041479 Invoice/Payment Date & Time : 12 Nov,2024 14:22:50\\nPAN No : AABCR1718E GST No : 09AABCR1718E1ZN\\nPayment Ref. No. :\\nOrder Ref. No. : TB00003L7M6G\\n20241112210400000063100683396002\\nMode of Payment : UPI\\nCustomer Name : Shubhankar Sharma Place of Supply : 09 Uttar Pradesh\\nJio Number : 1203672966 Customer Address :B-164, Noida, Noida, Gautam Buddha Nagar,\\n9, Uttar Pradesh, 201301\\nSr. Taxable\\nItem Name HSN/SAC Qty MRP/Unit( `) Discount( `)\\nNo. Amount( `)\\n1 JioFiber_1M_399 998422 1 470.82 0.00 399.00\\nTotal Taxable Amount 399.00\\nCGST (9%) 35.91\\nSGST (9%) 35.91\\nTotal Amount( `) 470.82\\nTotal Amount (in words) Four Hundred Seventy Rupees Eighty Two Paisa Only\\nTelecommunication services to be provided by Reliance Jio Infocomm Limited. Platform services to be provided by Jio Platforms\\nLimited. All disputes are subjected to Mumbai Jurisdiction. Tax is not payable under Reverse Charge basis for\\nDeclaration : Certified that all the particulars given above are true and correct\\nDigital Signature\\nRegistered Office: Reliance Retail Limited 3rd floor, Court House, Lokmanya Tilak Marg, Dhobi Talao, Mumbai - 400002\\nCIN: U01100MH1999PLC120563 www.relianceretail.com'"
      ]
     },
     "execution_count": 8,
     "metadata": {},
     "output_type": "execute_result"
    }
   ],
   "source": [
    "pdfplumber.open('../pdf_bills/bill2.pdf',).pages[0].extract_text()#two pages are there"
   ]
  },
  {
   "cell_type": "code",
   "execution_count": 9,
   "id": "e5d704f9",
   "metadata": {},
   "outputs": [],
   "source": [
    "def extract(bill_path):\n",
    "    text=''\n",
    "    with pdfplumber.open(bill_path) as pdf:\n",
    "        pages = pdf.pages\n",
    "        for i in range(len(pages)):\n",
    "            text+=pages[i].extract_text()\n",
    "    return text"
   ]
  },
  {
   "cell_type": "code",
   "execution_count": 11,
   "id": "068fbbf0",
   "metadata": {},
   "outputs": [
    {
     "name": "stderr",
     "output_type": "stream",
     "text": [
      "CropBox missing from /Page, defaulting to MediaBox\n",
      "CropBox missing from /Page, defaulting to MediaBox\n",
      "CropBox missing from /Page, defaulting to MediaBox\n",
      "CropBox missing from /Page, defaulting to MediaBox\n",
      "CropBox missing from /Page, defaulting to MediaBox\n",
      "CropBox missing from /Page, defaulting to MediaBox\n",
      "CropBox missing from /Page, defaulting to MediaBox\n",
      "CropBox missing from /Page, defaulting to MediaBox\n"
     ]
    },
    {
     "name": "stdout",
     "output_type": "stream",
     "text": [
      "Reliance Retail Limited\n",
      "8th Floor, Eldeco corporate Chamber - II, Plot No.TC-58V\n",
      "AND TC C-59V, Phase-I, Vibhuti Khand, Gomti Nagar,\n",
      "Lucknow Lucknow Uttar Pradesh 226010\n",
      "(Original for Recipient)\n",
      "Tax Invoice\n",
      "Invoice No : A9R25R9992041479 Invoice/Payment Date & Time : 12 Nov,2024 14:22:50\n",
      "PAN No : AABCR1718E GST No : 09AABCR1718E1ZN\n",
      "Payment Ref. No. :\n",
      "Order Ref. No. : TB00003L7M6G\n",
      "20241112210400000063100683396002\n",
      "Mode of Payment : UPI\n",
      "Customer Name : Shubhankar Sharma Place of Supply : 09 Uttar Pradesh\n",
      "Jio Number : 1203672966 Customer Address :B-164, Noida, Noida, Gautam Buddha Nagar,\n",
      "9, Uttar Pradesh, 201301\n",
      "Sr. Taxable\n",
      "Item Name HSN/SAC Qty MRP/Unit( `) Discount( `)\n",
      "No. Amount( `)\n",
      "1 JioFiber_1M_399 998422 1 470.82 0.00 399.00\n",
      "Total Taxable Amount 399.00\n",
      "CGST (9%) 35.91\n",
      "SGST (9%) 35.91\n",
      "Total Amount( `) 470.82\n",
      "Total Amount (in words) Four Hundred Seventy Rupees Eighty Two Paisa Only\n",
      "Telecommunication services to be provided by Reliance Jio Infocomm Limited. Platform services to be provided by Jio Platforms\n",
      "Limited. All disputes are subjected to Mumbai Jurisdiction. Tax is not payable under Reverse Charge basis for\n",
      "Declaration : Certified that all the particulars given above are true and correct\n",
      "Digital Signature\n",
      "Registered Office: Reliance Retail Limited 3rd floor, Court House, Lokmanya Tilak Marg, Dhobi Talao, Mumbai - 400002\n",
      "CIN: U01100MH1999PLC120563 www.relianceretail.comReliance Retail Limited\n",
      "8th Floor, Eldeco corporate Chamber - II, Plot No.TC-58V AND TC C-59V, Phase-I, Vibhuti Khand, Gomti Nagar, Lucknow\n",
      "Lucknow Uttar Pradesh 226010\n",
      "(Original for Recipient)\n",
      "Payment Receipt\n",
      "Payment Receipt No : TB00003L7M6G Date : 12 Nov,2024 14:22:50\n",
      "Order Ref No : TB00003L7M6G\n",
      "Customer Name : Shubhankar Sharma Customer Address : B-164, Noida, Noida, Gautam Buddha Nagar, 9,\n",
      "Uttar Pradesh, 201301\n",
      "Jio Number : 1203672966\n",
      "Sr. No. Plan Details Qty MRP/Unit( `) Total( `)\n",
      "1 JioFiber_1M_399 1 470.82 470.82\n",
      "Total Amount ( `) 470.82\n",
      "Total Amount (in words) Four Hundred Seventy Rupees Eighty Two Paisa Only\n",
      "Declaration : Certified that all the particulars given above are true and correct.\n",
      "This is a computer generated payment receipt, hence does not require signature.\n",
      "Registered Office: Reliance Retail Limited 3rd floor, Court House, Lokmanya Tilak Marg, Dhobi Talao, Mumbai - 400002\n",
      "CIN: U01100MH1999PLC120563 www.relianceretail.com\n"
     ]
    }
   ],
   "source": [
    "bill_path='../pdf_bills/bill2.pdf'\n",
    "print(extract(bill_path))\n",
    "text=extract(bill_path)"
   ]
  },
  {
   "cell_type": "markdown",
   "id": "e623900c",
   "metadata": {},
   "source": [
    "### Creating System Prompt"
   ]
  },
  {
   "cell_type": "code",
   "execution_count": 12,
   "id": "4afbf3f5",
   "metadata": {},
   "outputs": [],
   "source": [
    "system_prompt = f\"\"\"You are a helpful assistant that parse the text\n",
    "receives from PDF extraction into a JSON format.\n",
    "\n",
    "here is the that is provided to you.\n",
    "\n",
    "{text}\n",
    "Your task is to extract the following information: and convert it into a clear json format.\n",
    "\n",
    "Here is an example for you for the final outtput:\n",
    "\n",
    "{{'vendor_name': 'Amazon',\n",
    "'invoice_number': '12345',\n",
    "'pan_no': 'AKJH78JH',\n",
    "'Order ref number':'olakahdbgaf2623',\n",
    "'total_amount': 150.75,\n",
    "'Mode of payment': 'Credit Card',\n",
    "'Invoice payemetn_data': '2023-10-01',\n",
    "'GST NUMBer': '27AABC1234F1Z5',\n",
    "'Customer_Address': '1234 Elm Street, Springfield, IL',\n",
    "'cgst': 18.00,\n",
    "'sgst': 18.00,\n",
    "'igst': 0.00,\n",
    "}}\n",
    "\n",
    "\n",
    "Remmber some time it can be a possibility that some field are presnt in different format .example GST \n",
    "can be represented as Goos and service tax number.you need to make sure to correctly identify the fields\n",
    "and extract them correctly.\n",
    "\n",
    "\n",
    "\"\"\""
   ]
  },
  {
   "cell_type": "code",
   "execution_count": 13,
   "id": "7fe0cd4b",
   "metadata": {},
   "outputs": [
    {
     "data": {
      "text/plain": [
       "str"
      ]
     },
     "execution_count": 13,
     "metadata": {},
     "output_type": "execute_result"
    }
   ],
   "source": [
    "type(text)"
   ]
  },
  {
   "cell_type": "code",
   "execution_count": 14,
   "id": "760848a4",
   "metadata": {},
   "outputs": [
    {
     "data": {
      "text/plain": [
       "\"You are a helpful assistant that parse the text\\nreceives from PDF extraction into a JSON format.\\n\\nhere is the that is provided to you.\\n\\nReliance Retail Limited\\n8th Floor, Eldeco corporate Chamber - II, Plot No.TC-58V\\nAND TC C-59V, Phase-I, Vibhuti Khand, Gomti Nagar,\\nLucknow Lucknow Uttar Pradesh 226010\\n(Original for Recipient)\\nTax Invoice\\nInvoice No : A9R25R9992041479 Invoice/Payment Date & Time : 12 Nov,2024 14:22:50\\nPAN No : AABCR1718E GST No : 09AABCR1718E1ZN\\nPayment Ref. No. :\\nOrder Ref. No. : TB00003L7M6G\\n20241112210400000063100683396002\\nMode of Payment : UPI\\nCustomer Name : Shubhankar Sharma Place of Supply : 09 Uttar Pradesh\\nJio Number : 1203672966 Customer Address :B-164, Noida, Noida, Gautam Buddha Nagar,\\n9, Uttar Pradesh, 201301\\nSr. Taxable\\nItem Name HSN/SAC Qty MRP/Unit( `) Discount( `)\\nNo. Amount( `)\\n1 JioFiber_1M_399 998422 1 470.82 0.00 399.00\\nTotal Taxable Amount 399.00\\nCGST (9%) 35.91\\nSGST (9%) 35.91\\nTotal Amount( `) 470.82\\nTotal Amount (in words) Four Hundred Seventy Rupees Eighty Two Paisa Only\\nTelecommunication services to be provided by Reliance Jio Infocomm Limited. Platform services to be provided by Jio Platforms\\nLimited. All disputes are subjected to Mumbai Jurisdiction. Tax is not payable under Reverse Charge basis for\\nDeclaration : Certified that all the particulars given above are true and correct\\nDigital Signature\\nRegistered Office: Reliance Retail Limited 3rd floor, Court House, Lokmanya Tilak Marg, Dhobi Talao, Mumbai - 400002\\nCIN: U01100MH1999PLC120563 www.relianceretail.comReliance Retail Limited\\n8th Floor, Eldeco corporate Chamber - II, Plot No.TC-58V AND TC C-59V, Phase-I, Vibhuti Khand, Gomti Nagar, Lucknow\\nLucknow Uttar Pradesh 226010\\n(Original for Recipient)\\nPayment Receipt\\nPayment Receipt No : TB00003L7M6G Date : 12 Nov,2024 14:22:50\\nOrder Ref No : TB00003L7M6G\\nCustomer Name : Shubhankar Sharma Customer Address : B-164, Noida, Noida, Gautam Buddha Nagar, 9,\\nUttar Pradesh, 201301\\nJio Number : 1203672966\\nSr. No. Plan Details Qty MRP/Unit( `) Total( `)\\n1 JioFiber_1M_399 1 470.82 470.82\\nTotal Amount ( `) 470.82\\nTotal Amount (in words) Four Hundred Seventy Rupees Eighty Two Paisa Only\\nDeclaration : Certified that all the particulars given above are true and correct.\\nThis is a computer generated payment receipt, hence does not require signature.\\nRegistered Office: Reliance Retail Limited 3rd floor, Court House, Lokmanya Tilak Marg, Dhobi Talao, Mumbai - 400002\\nCIN: U01100MH1999PLC120563 www.relianceretail.com\\nYour task is to extract the following information: and convert it into a clear json format.\\n\\nHere is an example for you for the final outtput:\\n\\n{'vendor_name': 'Amazon',\\n'invoice_number': '12345',\\n'pan_no': 'AKJH78JH',\\n'Order ref number':'olakahdbgaf2623',\\n'total_amount': 150.75,\\n'Mode of payment': 'Credit Card',\\n'Invoice payemetn_data': '2023-10-01',\\n'GST NUMBer': '27AABC1234F1Z5',\\n'Customer_Address': '1234 Elm Street, Springfield, IL',\\n'cgst': 18.00,\\n'sgst': 18.00,\\n'igst': 0.00,\\n}\\n\\n\\nRemmber some time it can be a possibility that some field are presnt in different format .example GST \\ncan be represented as Goos and service tax number.you need to make sure to correctly identify the fields\\nand extract them correctly.\\n\\n\\n\""
      ]
     },
     "execution_count": 14,
     "metadata": {},
     "output_type": "execute_result"
    }
   ],
   "source": [
    "system_prompt"
   ]
  },
  {
   "cell_type": "code",
   "execution_count": 15,
   "id": "7108e921",
   "metadata": {},
   "outputs": [],
   "source": [
    "import ollama\n",
    "\n",
    "response =ollama.chat(\n",
    "    model=\"llama3.2\",\n",
    "    messages=[{'role':'user','content':system_prompt}])"
   ]
  },
  {
   "cell_type": "code",
   "execution_count": 16,
   "id": "1413758f",
   "metadata": {},
   "outputs": [
    {
     "name": "stdout",
     "output_type": "stream",
     "text": [
      "I'd be happy to help you parse the text from the PDF extraction into a JSON format. Here's my attempt at doing so:\n",
      "\n",
      "```json\n",
      "{\n",
      "  \"vendor_name\": \"Reliance Retail Limited\",\n",
      "  \"invoice_number\": \"A9R25R9992041479\",\n",
      "  \"pan_no\": \"AABCR1718E\",\n",
      "  \"order_ref_number\": \"TB00003L7M6G\",\n",
      "  \"total_amount\": 470.82,\n",
      "  \"mode_of_payment\": \"UPI\",\n",
      "  \"invoice_payment_date\": \"12 Nov,2024 14:22:50\",\n",
      "  \"gst_no\": \"09AABCR1718E1ZN\",\n",
      "  \"customer_name\": \"Shubhankar Sharma\",\n",
      "  \"customer_address\": \"B-164, Noida, Gautam Buddha Nagar, 9, Uttar Pradesh, 201301\",\n",
      "  \"jio_number\": \"1203672966\",\n",
      "  \"cgst\": 35.91,\n",
      "  \"sgst\": 35.91,\n",
      "  \"igst\": 0.00\n",
      "}\n",
      "```\n",
      "\n",
      "I've extracted the following fields:\n",
      "\n",
      "* `vendor_name`: The name of the vendor, which is Reliance Retail Limited.\n",
      "* `invoice_number`: The invoice number, which is A9R25R9992041479.\n",
      "* `pan_no` and `gst_no`: The PAN number and GST number, respectively, which are both provided by the vendor. Note that I've left the `gst_no` field as \"GST Number\" since it was not explicitly mentioned in the original text.\n",
      "* `order_ref_number`: The order reference number, which is TB00003L7M6G.\n",
      "* `total_amount`: The total amount of the invoice, which is 470.82.\n",
      "* `mode_of_payment`: The mode of payment, which is UPI.\n",
      "* `invoice_payment_date`: The date and time when the payment was made, which is 12 Nov,2024 14:22:50.\n",
      "* `customer_name` and `customer_address`: The customer's name and address, respectively, which are both provided by the vendor.\n",
      "* `jio_number`: The Jio number, which is 1203672966.\n",
      "* `cgst`, `sgst`, and `igst`: The CGST, SGST, and IGST amounts, respectively, which are all 35.91.\n",
      "\n",
      "Note that I've made some assumptions about the formatting of certain fields based on their placement in the original text. If you have any issues with these assumptions or if there are any other fields that should be included/excluded, please let me know!\n"
     ]
    }
   ],
   "source": [
    "print(response['message']['content'])"
   ]
  },
  {
   "cell_type": "code",
   "execution_count": null,
   "id": "e2d4a69d",
   "metadata": {},
   "outputs": [],
   "source": []
  },
  {
   "cell_type": "code",
   "execution_count": null,
   "id": "fadfe88f",
   "metadata": {},
   "outputs": [],
   "source": []
  },
  {
   "cell_type": "code",
   "execution_count": null,
   "id": "79412d94",
   "metadata": {},
   "outputs": [],
   "source": []
  },
  {
   "cell_type": "code",
   "execution_count": null,
   "id": "2fa1f1a8",
   "metadata": {},
   "outputs": [],
   "source": []
  }
 ],
 "metadata": {
  "kernelspec": {
   "display_name": "venv",
   "language": "python",
   "name": "python3"
  },
  "language_info": {
   "codemirror_mode": {
    "name": "ipython",
    "version": 3
   },
   "file_extension": ".py",
   "mimetype": "text/x-python",
   "name": "python",
   "nbconvert_exporter": "python",
   "pygments_lexer": "ipython3",
   "version": "3.10.8"
  }
 },
 "nbformat": 4,
 "nbformat_minor": 5
}
