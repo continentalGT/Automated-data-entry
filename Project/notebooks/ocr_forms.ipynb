{
 "cells": [
  {
   "cell_type": "markdown",
   "id": "644e9e4f",
   "metadata": {},
   "source": [
    "OCR"
   ]
  },
  {
   "cell_type": "code",
   "execution_count": 2,
   "id": "d71b8495",
   "metadata": {},
   "outputs": [],
   "source": [
    "import os\n",
    "import pytesseract\n",
    "from PIL import Image\n",
    "import json\n",
    "pytesseract.pytesseract.tesseract_cmd = r\"C:\\Program Files\\Tesseract-OCR\\tesseract.exe\"\n"
   ]
  },
  {
   "cell_type": "code",
   "execution_count": 3,
   "id": "040f2315",
   "metadata": {},
   "outputs": [
    {
     "data": {
      "text/plain": [
       "['Screenshot 2025-08-05 084753.png',\n",
       " 'Screenshot 2025-08-05 084849.png',\n",
       " 'Screenshot 2025-08-05 084923.png']"
      ]
     },
     "execution_count": 3,
     "metadata": {},
     "output_type": "execute_result"
    }
   ],
   "source": [
    "os.listdir(r'C:\\Users\\esvit\\Data Science\\Final solutions\\Automated-data-entry\\Project\\Bills')"
   ]
  },
  {
   "cell_type": "code",
   "execution_count": 4,
   "id": "5f4dab40",
   "metadata": {},
   "outputs": [
    {
     "name": "stdout",
     "output_type": "stream",
     "text": [
      "Store: Fresh Basket Mart\n",
      "\n",
      "Invoice #: FBM99834\n",
      "\n",
      "Date: 2025-08-05\n",
      "\n",
      "Product Qty Unit Price Total\n",
      "Apples (1kg) 2 180 360\n",
      "Bananas (1 dozen) 1 68 60\n",
      "Grapes (1kg) 1 150 150\n",
      "Subtotal: 3570\n",
      "\n",
      "GST (5%): 328.5\n",
      "\n",
      "Total Amount Payable: 3598.5\n",
      "\n",
      "Payment Mode: UPI\n",
      "\n",
      "Store: TrendWear Clothing\n",
      "\n",
      "Invoice #: TWC56109\n",
      "\n",
      "Date: 2025-08-04\n",
      "\n",
      "Product Qty Unit Price Total\n",
      "Men's Shirt 2 1200 2400\n",
      "Women's Dress 1 2500 2500\n",
      "Kids T-shirt 3 500 1500\n",
      "Subtotal: 6400\n",
      "\n",
      "GST (5%): 3320\n",
      "\n",
      "Total Amount Payable: 26720\n",
      "\n",
      "Payment Mode: Credit Card\n",
      "\n",
      "Store: SmartTech Electronics\n",
      "\n",
      "Invoice #: STE3@245\n",
      "\n",
      "Date: 2025-08-05\n",
      "\n",
      "Product Qty Unit Price Total\n",
      "Bluetooth Speaker 1 4000 4000\n",
      "USB Cable (2-pack) 1 5e0 500\n",
      "Power Bank (10k mAh)1 1200 1200\n",
      "Subtotal: 35700\n",
      "\n",
      "GST (18%): 1026\n",
      "\n",
      "Total Amount Payable: 26726\n",
      "\n",
      "Payment Mode: UPI\n",
      "\n"
     ]
    }
   ],
   "source": [
    "for file in os.listdir(r'C:\\Users\\esvit\\Data Science\\Final solutions\\Automated-data-entry\\Project\\Bills'):\n",
    "   if file.lower().endswith(('.png', '.jpg', '.jpeg', '.pdf')):\n",
    "            image_path = os.path.join(r'C:\\Users\\esvit\\Data Science\\Final solutions\\Automated-data-entry\\Project\\Bills', file)\n",
    "            image =Image.open(image_path)\n",
    "            text = pytesseract.image_to_string(image , config='--psm 6')\n",
    "            print(text)\n"
   ]
  },
  {
   "cell_type": "code",
   "execution_count": null,
   "id": "a70f5fd7",
   "metadata": {},
   "outputs": [],
   "source": []
  },
  {
   "cell_type": "markdown",
   "id": "6fccd9b1",
   "metadata": {},
   "source": [
    "Ollama"
   ]
  },
  {
   "cell_type": "code",
   "execution_count": 5,
   "id": "d0a53739",
   "metadata": {},
   "outputs": [
    {
     "name": "stdout",
     "output_type": "stream",
     "text": [
      "The capital of France is Paris.\n"
     ]
    }
   ],
   "source": [
    "import ollama\n",
    "\n",
    "response = ollama.chat(\n",
    "    model=\"llama3.2\",\n",
    "    messages=[{'role': 'user', 'content': 'What is the capital of France?'}],\n",
    "  \n",
    ")\n",
    "\n",
    "print(response['message']['content'])"
   ]
  },
  {
   "cell_type": "code",
   "execution_count": 6,
   "id": "c2c5453c",
   "metadata": {},
   "outputs": [],
   "source": [
    "def generate_prompt(text):\n",
    "    return  f\"\"\"\n",
    "You are a helpful assistant in parsing the information provided to you.\n",
    "The information provided to you is from the extraction of a bill or receipt from images through OCR.\n",
    "The text of the extracted bill is as follows:\n",
    "{text}\n",
    "\n",
    "You need to carefully analyse the text and extract the following information:\n",
    "1. Vendor Name\n",
    "2. Date of the bill\n",
    "3. Total Amount\n",
    "4. Payment mode\n",
    "\n",
    "After getting this information, you need to present it in a JSON format as shown below:\n",
    "{{\n",
    "  \"vendor_name\": \"Vendor Name\",\n",
    "  \"date\": \"Date of the bill\",\n",
    "  \"total_amount\": \"Total Amount\",\n",
    "  \"payment_mode\": \"Payment mode\"\n",
    "}}\n",
    "\n",
    "Please provide the JSON output only, without any additional text or explanation.\n",
    "\"\"\"\n"
   ]
  },
  {
   "cell_type": "code",
   "execution_count": 7,
   "id": "f9f10e27",
   "metadata": {},
   "outputs": [],
   "source": [
    "def response(text):\n",
    "    prompt = generate_prompt(text)\n",
    "    response = ollama.chat(\n",
    "        model=\"llama3.2\",\n",
    "        messages=[{'role': 'user', 'content': prompt}],\n",
    "    )\n",
    "    return response['message']['content']"
   ]
  },
  {
   "cell_type": "code",
   "execution_count": 8,
   "id": "94f0dbaa",
   "metadata": {},
   "outputs": [
    {
     "name": "stdout",
     "output_type": "stream",
     "text": [
      "C:\\Users\\esvit\\Data Science\\Final solutions\\Automated-data-entry\\Project\\Bills\\Screenshot 2025-08-05 084753.png\n",
      "{'vendor_name': 'Fresh Basket Mart', 'date': '2025-08-05', 'total_amount': '3598.5', 'payment_mode': 'UPI'}\n",
      "C:\\Users\\esvit\\Data Science\\Final solutions\\Automated-data-entry\\Project\\Bills\\Screenshot 2025-08-05 084849.png\n",
      "{'vendor_name': 'TrendWear Clothing', 'date': '2025-08-04', 'total_amount': '26720', 'payment_mode': 'Credit Card'}\n",
      "C:\\Users\\esvit\\Data Science\\Final solutions\\Automated-data-entry\\Project\\Bills\\Screenshot 2025-08-05 084923.png\n",
      "{'vendor_name': 'SmartTech Electronics', 'date': '2025-08-05', 'total_amount': '26726', 'payment_mode': 'UPI'}\n"
     ]
    }
   ],
   "source": [
    "data = []\n",
    "for file in os.listdir(r'C:\\Users\\esvit\\Data Science\\Final solutions\\Automated-data-entry\\Project\\Bills'):\n",
    "    if file.lower().endswith(('.png', '.jpg', '.jpeg', '.pdf')):\n",
    "        image_path = os.path.join(r'C:\\Users\\esvit\\Data Science\\Final solutions\\Automated-data-entry\\Project\\Bills', file)\n",
    "        print(image_path)\n",
    "        image = Image.open(image_path)\n",
    "        text = pytesseract.image_to_string(image, config='--psm 6')\n",
    "        text = generate_prompt(text)\n",
    "        generated_response = response(text)\n",
    "        try:\n",
    "            result = json.loads(generated_response)\n",
    "            print(result)\n",
    "            data.append(result)\n",
    "        except json.JSONDecodeError:\n",
    "            print(f\"Error decoding JSON for file {file}: {generated_response}\")\n",
    "        "
   ]
  },
  {
   "cell_type": "code",
   "execution_count": 9,
   "id": "3eb52430",
   "metadata": {},
   "outputs": [
    {
     "data": {
      "text/plain": [
       "[{'vendor_name': 'Fresh Basket Mart',\n",
       "  'date': '2025-08-05',\n",
       "  'total_amount': '3598.5',\n",
       "  'payment_mode': 'UPI'},\n",
       " {'vendor_name': 'TrendWear Clothing',\n",
       "  'date': '2025-08-04',\n",
       "  'total_amount': '26720',\n",
       "  'payment_mode': 'Credit Card'},\n",
       " {'vendor_name': 'SmartTech Electronics',\n",
       "  'date': '2025-08-05',\n",
       "  'total_amount': '26726',\n",
       "  'payment_mode': 'UPI'}]"
      ]
     },
     "execution_count": 9,
     "metadata": {},
     "output_type": "execute_result"
    }
   ],
   "source": [
    "data"
   ]
  },
  {
   "cell_type": "code",
   "execution_count": 10,
   "id": "76d417a9",
   "metadata": {},
   "outputs": [
    {
     "name": "stdout",
     "output_type": "stream",
     "text": [
      "{'vendor_name': 'Fresh Basket Mart', 'date': '2025-08-05', 'total_amount': '3598.5', 'payment_mode': 'UPI'}\n",
      "<class 'dict'>\n",
      "Fresh Basket Mart\n",
      "2025-08-05\n",
      "{'vendor_name': 'TrendWear Clothing', 'date': '2025-08-04', 'total_amount': '26720', 'payment_mode': 'Credit Card'}\n",
      "<class 'dict'>\n",
      "TrendWear Clothing\n",
      "2025-08-04\n",
      "{'vendor_name': 'SmartTech Electronics', 'date': '2025-08-05', 'total_amount': '26726', 'payment_mode': 'UPI'}\n",
      "<class 'dict'>\n",
      "SmartTech Electronics\n",
      "2025-08-05\n"
     ]
    }
   ],
   "source": [
    "for i in data:\n",
    "    print(i)\n",
    "    print(type(i))\n",
    "    print(i['vendor_name'])\n",
    "    print(i['date'])"
   ]
  },
  {
   "cell_type": "markdown",
   "id": "2fd06020",
   "metadata": {},
   "source": [
    "webb browser"
   ]
  },
  {
   "cell_type": "code",
   "execution_count": 10,
   "id": "e4b3587b",
   "metadata": {},
   "outputs": [],
   "source": [
    "# %pip install selenium"
   ]
  },
  {
   "cell_type": "code",
   "execution_count": null,
   "id": "5f50c2f2",
   "metadata": {},
   "outputs": [],
   "source": [
    "from selenium import webdriver\n",
    "from selenium.webdriver.common.keys import Keys\n",
    "from selenium.webdriver.common.by import By\n",
    "\n",
    "#chrome configueration\n",
    "chrome_options = webdriver.ChromeOptions()\n",
    "chrome_options.add_experimental_option('detach',True)\n",
    "\n",
    "driver = webdriver.Chrome() #instance of chrome\n",
    "\n",
    "link='http://127.0.0.1:3000/Project/static/index.html'\n",
    "driver.get(link)#openng url\n",
    "# driver.maximize_window()"
   ]
  },
  {
   "cell_type": "code",
   "execution_count": 12,
   "id": "8f0b2b93",
   "metadata": {},
   "outputs": [
    {
     "data": {
      "text/plain": [
       "'Vendor Name'"
      ]
     },
     "execution_count": 12,
     "metadata": {},
     "output_type": "execute_result"
    }
   ],
   "source": [
    "vendor = driver.find_element(By.CLASS_NAME,value='M7eMe')\n",
    "vendor.text"
   ]
  },
  {
   "cell_type": "code",
   "execution_count": 13,
   "id": "39b7b171",
   "metadata": {},
   "outputs": [],
   "source": [
    "input_field = driver.find_element(By.XPATH, '//input[@type=\"text\"]')\n",
    "input_field.send_keys('aSHOKE',Keys.ENTER)\n"
   ]
  },
  {
   "cell_type": "code",
   "execution_count": 14,
   "id": "790f67c2",
   "metadata": {},
   "outputs": [
    {
     "data": {
      "text/plain": [
       "[{'vendor_name': 'Walmart',\n",
       "  'date': '2025-06-04',\n",
       "  'total_amount': '$288.05',\n",
       "  'payment_mode': 'UPI'},\n",
       " {'vendor_name': 'Walmart',\n",
       "  'date': '2025-06-06',\n",
       "  'total_amount': '$417.63',\n",
       "  'payment_mode': 'Credit Card'},\n",
       " {'vendor_name': 'Flipkart',\n",
       "  'date': '2025-06-20',\n",
       "  'total_amount': '$513.4',\n",
       "  'payment_mode': 'Credit Card'},\n",
       " {'vendor_name': 'ElectroHub Pvt. Ltd.',\n",
       "  'date': '2025-05-23',\n",
       "  'total_amount': '32360',\n",
       "  'payment_mode': 'Debit Card'},\n",
       " {'vendor_name': 'HomeWood Interiors',\n",
       "  'date': '2025-05-29',\n",
       "  'total_amount': '325760',\n",
       "  'payment_mode': 'Debit Card'},\n",
       " {'vendor_name': 'FreshMart Supermarket',\n",
       "  'date': '2025-05-28',\n",
       "  'total_amount': '7866',\n",
       "  'payment_mode': 'Cash'},\n",
       " {'vendor_name': 'Airtel',\n",
       "  'date': '2025-05-22',\n",
       "  'total_amount': '2471',\n",
       "  'payment_mode': 'Online Wallet'}]"
      ]
     },
     "execution_count": 14,
     "metadata": {},
     "output_type": "execute_result"
    }
   ],
   "source": [
    "data\n"
   ]
  },
  {
   "cell_type": "code",
   "execution_count": null,
   "id": "f489e69a",
   "metadata": {},
   "outputs": [],
   "source": []
  },
  {
   "cell_type": "code",
   "execution_count": 11,
   "id": "96eb035e",
   "metadata": {},
   "outputs": [
    {
     "name": "stderr",
     "output_type": "stream",
     "text": [
      "There was an error managing chromedriver (error sending request for url (https://googlechromelabs.github.io/chrome-for-testing/known-good-versions-with-downloads.json)); using driver found in the cache\n"
     ]
    }
   ],
   "source": [
    "from selenium import webdriver\n",
    "from selenium.webdriver.common.by import By\n",
    "from selenium.webdriver.common.keys import Keys\n",
    "import time\n",
    "\n",
    "driver = webdriver.Chrome()\n",
    "driver.get(\"http://127.0.0.1:3000/Project/static/index.html\")  # or your local HTML file path\n",
    "\n",
    "for entry in data:\n",
    "    vendor_name=entry['vendor_name']\n",
    "    driver.find_element(By.ID, '1').send_keys(vendor_name, Keys.TAB)\n",
    "    time.sleep(1)\n",
    "\n",
    "    date=entry['date']\n",
    "    driver.find_element(By.ID, '2').send_keys(date, Keys.TAB)\n",
    "    time.sleep(1)\n",
    "\n",
    "    total_amount=entry['total_amount']\n",
    "    driver.find_element(By.ID, '3').send_keys(total_amount, Keys.TAB)\n",
    "    time.sleep(1)\n",
    "\n",
    "    payment_mode=entry['payment_mode']\n",
    "    driver.find_element(By.ID, '4').send_keys(payment_mode, Keys.TAB)\n",
    "    time.sleep(1)\n",
    "\n",
    "    # Fill in the form fields\n",
    "    # Submit form\n",
    "    submit_button = driver.find_element(By.ID, '5')\n",
    "    submit_button.click()\n",
    "\n",
    "    time.sleep(2)  # Optional: wait to see effect before refresh\n",
    "\n",
    "    # Refresh page\n",
    "    driver.refresh()\n"
   ]
  },
  {
   "cell_type": "markdown",
   "id": "015a1f16",
   "metadata": {},
   "source": [
    "WORKFLOW"
   ]
  },
  {
   "cell_type": "code",
   "execution_count": 1,
   "id": "d792cf37",
   "metadata": {},
   "outputs": [],
   "source": [
    "#importing libraries\n",
    "\n",
    "import os\n",
    "import pytesseract\n",
    "from PIL import Image\n",
    "import json\n",
    "import ollama\n",
    "from selenium import webdriver\n",
    "from selenium.webdriver.common.keys import Keys\n",
    "from selenium.webdriver.common.by import By\n",
    "import time\n",
    "pytesseract.pytesseract.tesseract_cmd = r\"C:\\Program Files\\Tesseract-OCR\\tesseract.exe\"\n",
    "\n",
    "\n",
    "\n",
    "\n",
    "BILL=r'C:\\Users\\esvit\\Data Science\\Final solutions\\Automated-data-entry\\Project\\Bills'\n",
    "\n",
    "link='http://127.0.0.1:3000/Project/static/index.html'\n",
    "\n",
    "\n",
    "\n",
    "\n",
    "#========utility functions========\n",
    "\n",
    "\n",
    "#function to extract text from images in a given directory\n",
    "def extract_text(image_path):\n",
    "    if os.path.exists(image_path):\n",
    "        image=Image.open(image_path)\n",
    "        text=pytesseract.image_to_string(image,config='--psm 6')\n",
    "        return text\n",
    "    else:\n",
    "        print('Folder does not exists')\n",
    "\n",
    "\n",
    "\n",
    "#function to generate prompt for ollama model\n",
    "def generate_prompt(text):\n",
    "    return  f\"\"\"\n",
    "You are a helpful assistant in parsing the information provided to you.\n",
    "The information provided to you is from the extraction of a bill or receipt from images through OCR.\n",
    "The text of the extracted bill is as follows:\n",
    "{text}\n",
    "\n",
    "You need to carefully analyse the text and extract the following information:\n",
    "1. Vendor Name\n",
    "2. Date of the bill\n",
    "3. Total Amount\n",
    "4. Payment mode\n",
    "\n",
    "After getting this information, you need to present it in a JSON format as shown below:\n",
    "{{\n",
    "  \"vendor_name\": \"Vendor Name\",\n",
    "  \"date\": \"Date of the bill\",\n",
    "  \"total_amount\": \"Total Amount\",\n",
    "  \"payment_mode\": \"Payment mode\"\n",
    "}}\n",
    "\n",
    "Please provide the JSON output only, without any additional text or explanation.\n",
    "\"\"\"\n",
    "\n",
    "#function to get response from ollama model\n",
    "\n",
    "def response(text):\n",
    "    prompt = generate_prompt(text)\n",
    "    response = ollama.chat(\n",
    "        model=\"llama3.2\",\n",
    "        messages=[{'role': 'user', 'content': prompt}],\n",
    "    )\n",
    "    return response['message']['content']\n",
    "\n",
    "\n",
    "\n",
    "\n",
    "#function to open a web browser and fill the form with extracted data\n",
    "def web(Link):\n",
    "    global driver\n",
    "    chrome_options = webdriver.ChromeOptions()\n",
    "    chrome_options.add_experimental_option('detach', True)\n",
    "    driver = webdriver.Chrome()  # instance of chrome\n",
    "    return driver.get(Link)  # opening url\n",
    "\n",
    "#main workflow \n",
    "all_data = []\n",
    "\n",
    "\n",
    "for file in os.listdir(BILL):\n",
    "    if file.lower().endswith(('.png', '.jpg', '.jpeg', '.pdf')):\n",
    "        image_path = os.path.join(BILL, file)\n",
    "        print(image_path)\n",
    "        text = extract_text(image_path)\n",
    "        text = generate_prompt(text)\n",
    "        generated_response = response(text)\n",
    "        try:\n",
    "            result = json.loads(generated_response)\n",
    "            print(result)\n",
    "            all_data.append(result)\n",
    "        except json.JSONDecodeError:\n",
    "            print(f\"Error decoding JSON for file {file}: {generated_response}\")\n",
    "\n",
    "\n",
    "time.sleep(5)  # Optional: wait for the page to load before filling the form\n",
    "if all_data:\n",
    "    web(link)\n",
    "    for entry in all_data:\n",
    "        vendor_name=entry['vendor_name']\n",
    "        driver.find_element(By.ID, '1').send_keys(vendor_name, Keys.TAB)\n",
    "        time.sleep(1)\n",
    "\n",
    "        date=entry['date']\n",
    "        driver.find_element(By.ID, '2').send_keys(date, Keys.TAB)\n",
    "        time.sleep(1)\n",
    "\n",
    "        total_amount=entry['total_amount']\n",
    "        driver.find_element(By.ID, '3').send_keys(total_amount, Keys.TAB)\n",
    "        time.sleep(1)\n",
    "\n",
    "        payment_mode=entry['payment_mode']\n",
    "        driver.find_element(By.ID, '4').send_keys(payment_mode, Keys.TAB)\n",
    "        time.sleep(1)\n",
    "\n",
    "        # Fill in the form fields\n",
    "        # Submit form\n",
    "        submit_button = driver.find_element(By.ID, '5')\n",
    "        submit_button.click()\n",
    "\n",
    "        time.sleep(2)  # Optional: wait to see effect before refresh\n",
    "\n",
    "        # Refresh page\n",
    "        driver.refresh()"
   ]
  },
  {
   "cell_type": "code",
   "execution_count": null,
   "id": "2c83499b",
   "metadata": {},
   "outputs": [],
   "source": []
  },
  {
   "cell_type": "code",
   "execution_count": null,
   "id": "ff39efa4",
   "metadata": {},
   "outputs": [],
   "source": []
  }
 ],
 "metadata": {
  "kernelspec": {
   "display_name": "Python 3 (ipykernel)",
   "language": "python",
   "name": "python3"
  },
  "language_info": {
   "codemirror_mode": {
    "name": "ipython",
    "version": 3
   },
   "file_extension": ".py",
   "mimetype": "text/x-python",
   "name": "python",
   "nbconvert_exporter": "python",
   "pygments_lexer": "ipython3",
   "version": "3.12.7"
  }
 },
 "nbformat": 4,
 "nbformat_minor": 5
}
